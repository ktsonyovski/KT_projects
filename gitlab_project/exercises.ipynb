{
 "cells": [
  {
   "cell_type": "code",
   "execution_count": 1,
   "id": "08b4fcc2-2217-4b0e-b4a8-0b55f32068d6",
   "metadata": {},
   "outputs": [
    {
     "name": "stdout",
     "output_type": "stream",
     "text": [
      "Hello Jupyter\n"
     ]
    }
   ],
   "source": [
    "print(\"Hello Jupyter\")"
   ]
  },
  {
   "cell_type": "markdown",
   "id": "ad37bf3c-e346-4861-8cf3-88dca12ccd89",
   "metadata": {},
   "source": [
    "# Exercises"
   ]
  },
  {
   "cell_type": "markdown",
   "id": "5414f1da-6add-46c2-ad84-ce6c78d61c48",
   "metadata": {},
   "source": [
    "## Lists"
   ]
  },
  {
   "cell_type": "code",
   "execution_count": 1,
   "id": "82a5e38e-92a8-4aa6-a0d2-2f57b2e844e6",
   "metadata": {},
   "outputs": [],
   "source": [
    "my_list = [1, 2, 3, 4]"
   ]
  },
  {
   "cell_type": "code",
   "execution_count": 2,
   "id": "c31608c3-3735-4490-ab6d-a20effdfb413",
   "metadata": {},
   "outputs": [
    {
     "name": "stdout",
     "output_type": "stream",
     "text": [
      "[1, 2, 3, 4]\n"
     ]
    }
   ],
   "source": [
    "print(my_list)"
   ]
  },
  {
   "cell_type": "code",
   "execution_count": 3,
   "id": "2715a99b-dc71-4789-906b-581c6e3e0e5f",
   "metadata": {},
   "outputs": [],
   "source": [
    "my_list = [[1, 2, 3 ,4 ,5], False, \"something else\"]"
   ]
  },
  {
   "cell_type": "code",
   "execution_count": 4,
   "id": "867c3fc1-971c-4c4e-89f6-7983372f99d1",
   "metadata": {},
   "outputs": [
    {
     "name": "stdout",
     "output_type": "stream",
     "text": [
      "[[1, 2, 3, 4, 5], False, 'something else']\n"
     ]
    }
   ],
   "source": [
    "print(my_list)"
   ]
  },
  {
   "cell_type": "code",
   "execution_count": 5,
   "id": "716f81e6-a2cf-4b75-a2a6-4ed0b8daf8ab",
   "metadata": {},
   "outputs": [
    {
     "name": "stdout",
     "output_type": "stream",
     "text": [
      "something else\n"
     ]
    }
   ],
   "source": [
    "print(my_list[2])"
   ]
  },
  {
   "cell_type": "code",
   "execution_count": 6,
   "id": "9075df15-ec19-46b8-ac73-bf85d141952b",
   "metadata": {},
   "outputs": [
    {
     "name": "stdout",
     "output_type": "stream",
     "text": [
      "3\n"
     ]
    }
   ],
   "source": [
    "print(my_list[0][2])"
   ]
  },
  {
   "cell_type": "markdown",
   "id": "aa53ef78-80ab-43c8-82ef-fd6258a460f7",
   "metadata": {},
   "source": [
    "# Practice challenges"
   ]
  },
  {
   "cell_type": "code",
   "execution_count": 10,
   "id": "b20b0b84-f9e1-49d0-9d1f-3aedcc132e96",
   "metadata": {},
   "outputs": [
    {
     "name": "stdout",
     "output_type": "stream",
     "text": [
      "Hello world\n"
     ]
    }
   ],
   "source": [
    "\"\"\"Assign and Print Variables\n",
    "\n",
    "    Create a variable called firstWord and assign it the value \"Hello\".\n",
    "\n",
    "    Create another variable called secondWord and assign it the value \"world\".\n",
    "\n",
    "    Print both variables together to display Hello world.\n",
    "\"\"\"\n",
    "\n",
    "firstWord = \"Hello\"\n",
    "secondWord = \"world\"\n",
    "print(firstWord + ' ' + secondWord)"
   ]
  },
  {
   "cell_type": "code",
   "execution_count": 13,
   "id": "6ddd8db4-322d-4ab5-bd12-145845424529",
   "metadata": {},
   "outputs": [
    {
     "name": "stdout",
     "output_type": "stream",
     "text": [
      "Python is incredible. I love it!\n"
     ]
    }
   ],
   "source": [
    "\"\"\"2. Store and Combine Words\n",
    "\n",
    "    Take the sentence: \"Python is incredible. I love it!\".\n",
    "\n",
    "    Store each word in a separate variable.\n",
    "\n",
    "    Print the full sentence on one line using the print() function.\n",
    "\"\"\"\n",
    "\n",
    "w1 = \"Python\"\n",
    "w2 = \"is\"\n",
    "w3 = \"incredible\"\n",
    "w4 = \"I\"\n",
    "w5 = \"love\"\n",
    "w6 = \"it!\"\n",
    "\n",
    "print(f\"{w1} {w2} {w3}. {w4} {w5} {w6}\")"
   ]
  },
  {
   "cell_type": "code",
   "execution_count": 21,
   "id": "f031a020-0ecf-4e80-bc61-089a29e84d8a",
   "metadata": {},
   "outputs": [],
   "source": [
    "\"\"\"4. Simple Math with Variables\n",
    "\n",
    "    Create two variables, number1 and number2, and assign them integer values.\n",
    "\n",
    "    Write a function that returns their product if it is less than or equal to 1000; otherwise, return their sum.\n",
    "\"\"\"\n",
    "\n",
    "def product_or_sum(x: int, y: int):\n",
    "    \"\"\"This is a function that will return product of two\n",
    "    numbers if it is less or equal to 1000, otherwise it will return their sum\n",
    "    \"\"\"\n",
    "    product = x * y\n",
    "    sum_ = x + y\n",
    "    if product <= 1000 and product >= 1:\n",
    "        print(f\"Product = {product}\")\n",
    "    else:\n",
    "        print(f\"Sum = {sum_}\")"
   ]
  },
  {
   "cell_type": "code",
   "execution_count": 22,
   "id": "a4c4f2c1-016b-4652-9da0-b1db0fbe4bf3",
   "metadata": {},
   "outputs": [
    {
     "name": "stdout",
     "output_type": "stream",
     "text": [
      "Product = 320\n"
     ]
    }
   ],
   "source": [
    "product_or_sum(160, 2)"
   ]
  },
  {
   "cell_type": "code",
   "execution_count": 23,
   "id": "9f725cd4-08a0-4f59-b03b-21d20d05dc65",
   "metadata": {},
   "outputs": [
    {
     "name": "stdout",
     "output_type": "stream",
     "text": [
      "Sum = 360\n"
     ]
    }
   ],
   "source": [
    "product_or_sum(160, 200)"
   ]
  },
  {
   "cell_type": "code",
   "execution_count": 26,
   "id": "1c03f736-79df-4580-b6ec-f25b21ad2fc8",
   "metadata": {},
   "outputs": [
    {
     "name": "stdout",
     "output_type": "stream",
     "text": [
      "Current: 1\n",
      "Previous: 0\n",
      "Sum: 1\n",
      "\n",
      "Current: 2\n",
      "Previous: 1\n",
      "Sum: 3\n",
      "\n",
      "Current: 3\n",
      "Previous: 2\n",
      "Sum: 5\n",
      "\n",
      "Current: 4\n",
      "Previous: 3\n",
      "Sum: 7\n",
      "\n",
      "Current: 5\n",
      "Previous: 4\n",
      "Sum: 9\n",
      "\n",
      "Current: 6\n",
      "Previous: 5\n",
      "Sum: 11\n",
      "\n",
      "Current: 7\n",
      "Previous: 6\n",
      "Sum: 13\n",
      "\n",
      "Current: 8\n",
      "Previous: 7\n",
      "Sum: 15\n",
      "\n",
      "Current: 9\n",
      "Previous: 8\n",
      "Sum: 17\n",
      "\n",
      "Current: 10\n",
      "Previous: 9\n",
      "Sum: 19\n",
      "\n"
     ]
    }
   ],
   "source": [
    "\"\"\"5. Sum of Current and Previous Number\n",
    "\n",
    "    Create a variable called previous_num and set it to 0.\n",
    "\n",
    "    Use a loop to iterate through numbers 1 to 10.\n",
    "\n",
    "    In each iteration, print the current number, the previous number, and their sum.\n",
    "\n",
    "    Update previous_num to the current number at the end of each iteration.\n",
    "\"\"\"\n",
    "for numbers in range(1, 11):\n",
    "    current_number = numbers\n",
    "    previous_number = numbers - 1\n",
    "    sum_ = current_number + previous_number\n",
    "    print(f\"Current: {current_number}\\nPrevious: {previous_number}\\nSum: {sum_}\\n\")"
   ]
  },
  {
   "cell_type": "code",
   "execution_count": 34,
   "id": "dddcf37c-fa57-4538-a90e-ae82b7daa3ce",
   "metadata": {},
   "outputs": [
    {
     "name": "stdin",
     "output_type": "stream",
     "text": [
      "Provide string to print out:  hello world\n"
     ]
    },
    {
     "name": "stdout",
     "output_type": "stream",
     "text": [
      "hlowrd"
     ]
    }
   ],
   "source": [
    "\"\"\" 6. Print Characters at Even Indexes\n",
    "\n",
    "    Ask the user to input a string.\n",
    "\n",
    "    Print only the characters that are at even index numbers (0, 2, 4, ...).\n",
    "\"\"\"\n",
    "user_string = input(\"Provide string to print out: \")\n",
    "for index, char in enumerate(user_string):\n",
    "    if index % 2 == 0:\n",
    "        print(char, end=\"\")        "
   ]
  },
  {
   "cell_type": "code",
   "execution_count": 48,
   "id": "e32abf10-a0fa-456e-b2ab-9d541e8fada8",
   "metadata": {},
   "outputs": [],
   "source": [
    "\"\"\"7. Basic Pattern Printing Using Variables\n",
    "\n",
    "    Use a variable in a loop to print a pattern like:\n",
    "    1\n",
    "    2 2\n",
    "    3 3 3\n",
    "    4 4 4 4\n",
    "    5 5 5 5 5\n",
    "\"\"\"\n",
    "\n",
    "def pyramid_print(a):\n",
    "    \"\"\"This will print the number in a pyramid-like structure\"\"\"\n",
    "    for number in range(1, a+1):\n",
    "        print(f\"{number} \"*number)"
   ]
  },
  {
   "cell_type": "code",
   "execution_count": 49,
   "id": "668d6198-9371-495b-b9ad-020bbb3a3e89",
   "metadata": {},
   "outputs": [
    {
     "name": "stdout",
     "output_type": "stream",
     "text": [
      "1 \n",
      "2 2 \n",
      "3 3 3 \n",
      "4 4 4 4 \n",
      "5 5 5 5 5 \n"
     ]
    }
   ],
   "source": [
    "pyramid_print(5)"
   ]
  }
 ],
 "metadata": {
  "kernelspec": {
   "display_name": "Python 3 (ipykernel)",
   "language": "python",
   "name": "python3"
  },
  "language_info": {
   "codemirror_mode": {
    "name": "ipython",
    "version": 3
   },
   "file_extension": ".py",
   "mimetype": "text/x-python",
   "name": "python",
   "nbconvert_exporter": "python",
   "pygments_lexer": "ipython3",
   "version": "3.12.3"
  }
 },
 "nbformat": 4,
 "nbformat_minor": 5
}
